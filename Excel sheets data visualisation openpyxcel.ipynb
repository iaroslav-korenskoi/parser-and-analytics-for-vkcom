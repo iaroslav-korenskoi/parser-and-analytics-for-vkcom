{
 "cells": [
  {
   "cell_type": "markdown",
   "metadata": {},
   "source": [
    "# СТАРТ"
   ]
  },
  {
   "cell_type": "markdown",
   "metadata": {
    "ExecuteTime": {
     "end_time": "2020-12-18T13:25:06.346485Z",
     "start_time": "2020-12-18T13:25:06.344098Z"
    },
    "heading_collapsed": true
   },
   "source": [
    "## Импорты и вводные данные"
   ]
  },
  {
   "cell_type": "code",
   "execution_count": 79,
   "metadata": {
    "ExecuteTime": {
     "end_time": "2020-12-18T19:09:16.351268Z",
     "start_time": "2020-12-18T19:09:16.342705Z"
    },
    "hidden": true
   },
   "outputs": [],
   "source": [
    "import requests\n",
    "import datetime\n",
    "import time\n",
    "import csv\n",
    "\n",
    "from openpyxl import Workbook\n",
    "from openpyxl.utils.dataframe import dataframe_to_rows\n",
    "import pandas as pd\n",
    "import matplotlib\n",
    "import matplotlib.pyplot as plt\n",
    "import matplotlib.patches as mpatches\n",
    "plt.style.use('ggplot')\n",
    "plt.rcParams['figure.figsize'] = (15, 5)"
   ]
  },
  {
   "cell_type": "code",
   "execution_count": 80,
   "metadata": {
    "ExecuteTime": {
     "end_time": "2020-12-18T19:09:16.838405Z",
     "start_time": "2020-12-18T19:09:16.835038Z"
    },
    "hidden": true
   },
   "outputs": [],
   "source": [
    "TOKEN_ID = '' # ← Поставь тут твой токен\n",
    "API_V = '5.126'"
   ]
  },
  {
   "cell_type": "code",
   "execution_count": 81,
   "metadata": {
    "ExecuteTime": {
     "end_time": "2020-12-18T19:09:18.644942Z",
     "start_time": "2020-12-18T19:09:18.639817Z"
    },
    "hidden": true
   },
   "outputs": [],
   "source": [
    "def folower_count_get(owner_id):\n",
    "    try:\n",
    "        rf = requests.get('https://api.vk.com/method/groups.getMembers', params={'group_id': owner_id,\n",
    "                                                                                 'v': API_V,\n",
    "                                                                                 'access_token': TOKEN_ID})\n",
    "    except Exception as err:\n",
    "        return err\n",
    "    \n",
    "    rf_response = rf.json()\n",
    "    return rf_response['response']['count']"
   ]
  },
  {
   "cell_type": "code",
   "execution_count": 82,
   "metadata": {
    "ExecuteTime": {
     "end_time": "2020-12-18T19:09:19.305698Z",
     "start_time": "2020-12-18T19:09:19.026511Z"
    },
    "hidden": true
   },
   "outputs": [
    {
     "data": {
      "text/html": [
       "<div>\n",
       "<style scoped>\n",
       "    .dataframe tbody tr th:only-of-type {\n",
       "        vertical-align: middle;\n",
       "    }\n",
       "\n",
       "    .dataframe tbody tr th {\n",
       "        vertical-align: top;\n",
       "    }\n",
       "\n",
       "    .dataframe thead th {\n",
       "        text-align: right;\n",
       "    }\n",
       "</style>\n",
       "<table border=\"1\" class=\"dataframe\">\n",
       "  <thead>\n",
       "    <tr style=\"text-align: right;\">\n",
       "      <th></th>\n",
       "      <th>N</th>\n",
       "      <th>id</th>\n",
       "      <th>from_id</th>\n",
       "      <th>owner_id</th>\n",
       "      <th>date</th>\n",
       "      <th>text</th>\n",
       "      <th>views</th>\n",
       "      <th>likes</th>\n",
       "      <th>reposts</th>\n",
       "      <th>comments</th>\n",
       "      <th>link</th>\n",
       "      <th>ER.v</th>\n",
       "      <th>ER.p</th>\n",
       "    </tr>\n",
       "  </thead>\n",
       "  <tbody>\n",
       "    <tr>\n",
       "      <th>0</th>\n",
       "      <td>0</td>\n",
       "      <td>397203</td>\n",
       "      <td>-1</td>\n",
       "      <td>-1</td>\n",
       "      <td>2020-12-07 08:45:00</td>\n",
       "      <td>10 декабря в 19:00 собираемся на седьмом митап...</td>\n",
       "      <td>10288</td>\n",
       "      <td>47</td>\n",
       "      <td>0</td>\n",
       "      <td>40</td>\n",
       "      <td>https://vk.com/wall-1_397203</td>\n",
       "      <td>1.302488</td>\n",
       "      <td>0.035062</td>\n",
       "    </tr>\n",
       "    <tr>\n",
       "      <th>1</th>\n",
       "      <td>1</td>\n",
       "      <td>397107</td>\n",
       "      <td>-1</td>\n",
       "      <td>-1</td>\n",
       "      <td>2020-12-03 15:55:12</td>\n",
       "      <td>Прокачали messages.pin: отныне бот с правами а...</td>\n",
       "      <td>12201</td>\n",
       "      <td>131</td>\n",
       "      <td>3</td>\n",
       "      <td>69</td>\n",
       "      <td>https://vk.com/wall-1_397107</td>\n",
       "      <td>2.712892</td>\n",
       "      <td>0.086609</td>\n",
       "    </tr>\n",
       "    <tr>\n",
       "      <th>2</th>\n",
       "      <td>2</td>\n",
       "      <td>397065</td>\n",
       "      <td>-1</td>\n",
       "      <td>-1</td>\n",
       "      <td>2020-12-02 08:56:06</td>\n",
       "      <td>Теперь можно размещать свой проект сразу на дв...</td>\n",
       "      <td>6637</td>\n",
       "      <td>35</td>\n",
       "      <td>0</td>\n",
       "      <td>40</td>\n",
       "      <td>https://vk.com/wall-1_397065</td>\n",
       "      <td>1.657375</td>\n",
       "      <td>0.028782</td>\n",
       "    </tr>\n",
       "    <tr>\n",
       "      <th>3</th>\n",
       "      <td>3</td>\n",
       "      <td>396954</td>\n",
       "      <td>-1</td>\n",
       "      <td>-1</td>\n",
       "      <td>2020-11-13 13:34:17</td>\n",
       "      <td>Делимся некоторыми изменениями, связанными с C...</td>\n",
       "      <td>13572</td>\n",
       "      <td>72</td>\n",
       "      <td>2</td>\n",
       "      <td>29</td>\n",
       "      <td>https://vk.com/wall-1_396954</td>\n",
       "      <td>1.274683</td>\n",
       "      <td>0.045267</td>\n",
       "    </tr>\n",
       "    <tr>\n",
       "      <th>4</th>\n",
       "      <td>4</td>\n",
       "      <td>396931</td>\n",
       "      <td>-1</td>\n",
       "      <td>-1</td>\n",
       "      <td>2020-11-12 12:48:35</td>\n",
       "      <td>Выведите заработок на новый уровень — на 130% ...</td>\n",
       "      <td>340186</td>\n",
       "      <td>376</td>\n",
       "      <td>2</td>\n",
       "      <td>13</td>\n",
       "      <td>https://vk.com/wall-1_396931</td>\n",
       "      <td>0.224877</td>\n",
       "      <td>0.200169</td>\n",
       "    </tr>\n",
       "    <tr>\n",
       "      <th>...</th>\n",
       "      <td>...</td>\n",
       "      <td>...</td>\n",
       "      <td>...</td>\n",
       "      <td>...</td>\n",
       "      <td>...</td>\n",
       "      <td>...</td>\n",
       "      <td>...</td>\n",
       "      <td>...</td>\n",
       "      <td>...</td>\n",
       "      <td>...</td>\n",
       "      <td>...</td>\n",
       "      <td>...</td>\n",
       "      <td>...</td>\n",
       "    </tr>\n",
       "    <tr>\n",
       "      <th>176</th>\n",
       "      <td>176</td>\n",
       "      <td>240436</td>\n",
       "      <td>-1</td>\n",
       "      <td>-1</td>\n",
       "      <td>2011-02-05 11:54:32</td>\n",
       "      <td>Теперь openApi приложения тоже могут использов...</td>\n",
       "      <td>0</td>\n",
       "      <td>145</td>\n",
       "      <td>5</td>\n",
       "      <td>31</td>\n",
       "      <td>https://vk.com/wall-1_240436</td>\n",
       "      <td>inf</td>\n",
       "      <td>0.083992</td>\n",
       "    </tr>\n",
       "    <tr>\n",
       "      <th>177</th>\n",
       "      <td>177</td>\n",
       "      <td>238413</td>\n",
       "      <td>-1</td>\n",
       "      <td>-1</td>\n",
       "      <td>2011-02-04 15:40:53</td>\n",
       "      <td>Подключение виджетов в IFrame-приложениях http...</td>\n",
       "      <td>0</td>\n",
       "      <td>103</td>\n",
       "      <td>7</td>\n",
       "      <td>5</td>\n",
       "      <td>https://vk.com/wall-1_238413</td>\n",
       "      <td>inf</td>\n",
       "      <td>0.055210</td>\n",
       "    </tr>\n",
       "    <tr>\n",
       "      <th>178</th>\n",
       "      <td>178</td>\n",
       "      <td>236533</td>\n",
       "      <td>-1</td>\n",
       "      <td>-1</td>\n",
       "      <td>2011-02-03 18:17:06</td>\n",
       "      <td>Обновлён метод wall.post для публикации записе...</td>\n",
       "      <td>0</td>\n",
       "      <td>116</td>\n",
       "      <td>7</td>\n",
       "      <td>9</td>\n",
       "      <td>https://vk.com/wall-1_236533</td>\n",
       "      <td>inf</td>\n",
       "      <td>0.063060</td>\n",
       "    </tr>\n",
       "    <tr>\n",
       "      <th>179</th>\n",
       "      <td>179</td>\n",
       "      <td>55229</td>\n",
       "      <td>-1</td>\n",
       "      <td>-1</td>\n",
       "      <td>2010-11-08 20:13:17</td>\n",
       "      <td>Результаты второго этапа конкурса на разработк...</td>\n",
       "      <td>0</td>\n",
       "      <td>686</td>\n",
       "      <td>9</td>\n",
       "      <td>27</td>\n",
       "      <td>https://vk.com/wall-1_55229</td>\n",
       "      <td>inf</td>\n",
       "      <td>0.366060</td>\n",
       "    </tr>\n",
       "    <tr>\n",
       "      <th>180</th>\n",
       "      <td>180</td>\n",
       "      <td>49296</td>\n",
       "      <td>-1</td>\n",
       "      <td>-1</td>\n",
       "      <td>2010-11-04 21:56:15</td>\n",
       "      <td>NaN</td>\n",
       "      <td>0</td>\n",
       "      <td>1253</td>\n",
       "      <td>24</td>\n",
       "      <td>23</td>\n",
       "      <td>https://vk.com/wall-1_49296</td>\n",
       "      <td>inf</td>\n",
       "      <td>0.661734</td>\n",
       "    </tr>\n",
       "  </tbody>\n",
       "</table>\n",
       "<p>181 rows × 13 columns</p>\n",
       "</div>"
      ],
      "text/plain": [
       "       N      id  from_id  owner_id                date  \\\n",
       "0      0  397203       -1        -1 2020-12-07 08:45:00   \n",
       "1      1  397107       -1        -1 2020-12-03 15:55:12   \n",
       "2      2  397065       -1        -1 2020-12-02 08:56:06   \n",
       "3      3  396954       -1        -1 2020-11-13 13:34:17   \n",
       "4      4  396931       -1        -1 2020-11-12 12:48:35   \n",
       "..   ...     ...      ...       ...                 ...   \n",
       "176  176  240436       -1        -1 2011-02-05 11:54:32   \n",
       "177  177  238413       -1        -1 2011-02-04 15:40:53   \n",
       "178  178  236533       -1        -1 2011-02-03 18:17:06   \n",
       "179  179   55229       -1        -1 2010-11-08 20:13:17   \n",
       "180  180   49296       -1        -1 2010-11-04 21:56:15   \n",
       "\n",
       "                                                  text   views  likes  \\\n",
       "0    10 декабря в 19:00 собираемся на седьмом митап...   10288     47   \n",
       "1    Прокачали messages.pin: отныне бот с правами а...   12201    131   \n",
       "2    Теперь можно размещать свой проект сразу на дв...    6637     35   \n",
       "3    Делимся некоторыми изменениями, связанными с C...   13572     72   \n",
       "4    Выведите заработок на новый уровень — на 130% ...  340186    376   \n",
       "..                                                 ...     ...    ...   \n",
       "176  Теперь openApi приложения тоже могут использов...       0    145   \n",
       "177  Подключение виджетов в IFrame-приложениях http...       0    103   \n",
       "178  Обновлён метод wall.post для публикации записе...       0    116   \n",
       "179  Результаты второго этапа конкурса на разработк...       0    686   \n",
       "180                                                NaN       0   1253   \n",
       "\n",
       "     reposts  comments                          link      ER.v      ER.p  \n",
       "0          0        40  https://vk.com/wall-1_397203  1.302488  0.035062  \n",
       "1          3        69  https://vk.com/wall-1_397107  2.712892  0.086609  \n",
       "2          0        40  https://vk.com/wall-1_397065  1.657375  0.028782  \n",
       "3          2        29  https://vk.com/wall-1_396954  1.274683  0.045267  \n",
       "4          2        13  https://vk.com/wall-1_396931  0.224877  0.200169  \n",
       "..       ...       ...                           ...       ...       ...  \n",
       "176        5        31  https://vk.com/wall-1_240436       inf  0.083992  \n",
       "177        7         5  https://vk.com/wall-1_238413       inf  0.055210  \n",
       "178        7         9  https://vk.com/wall-1_236533       inf  0.063060  \n",
       "179        9        27   https://vk.com/wall-1_55229       inf  0.366060  \n",
       "180       24        23   https://vk.com/wall-1_49296       inf  0.661734  \n",
       "\n",
       "[181 rows x 13 columns]"
      ]
     },
     "execution_count": 82,
     "metadata": {},
     "output_type": "execute_result"
    }
   ],
   "source": [
    "# Читаем файл, который получили в блокноте с функциями парсинга\n",
    "xcl_df = pd.read_csv('vk_wall_get_1public.csv', header=None)\n",
    "xcl_df.columns=['N', 'id', 'from_id', 'owner_id', 'date', 'text', 'views', 'likes', 'reposts', 'comments']\n",
    "xcl_df['link'] = 'https://vk.com/wall' + xcl_df['owner_id'].map(str) + '_' + xcl_df['id'].map(str)\n",
    "\n",
    "# Конвертируем дату\n",
    "xcl_df['date'] = pd.to_datetime(xcl_df['date'], unit='s')\n",
    "\n",
    "# Считаем и добавляем столбцы ER.v и ER.p\n",
    "xcl_df['ER.v'] = 100 * (xcl_df['likes'] + xcl_df['likes'] + xcl_df['comments']) / xcl_df['views']\n",
    "xcl_df['ER.p'] = 100 * (xcl_df['likes'] + xcl_df['likes'] + xcl_df['comments']) / followers[-1]\n",
    "\n",
    "xcl_df"
   ]
  },
  {
   "cell_type": "code",
   "execution_count": 83,
   "metadata": {
    "ExecuteTime": {
     "end_time": "2020-12-18T19:09:22.673376Z",
     "start_time": "2020-12-18T19:09:22.669091Z"
    },
    "hidden": true
   },
   "outputs": [
    {
     "data": {
      "text/plain": [
       "array([-1])"
      ]
     },
     "execution_count": 83,
     "metadata": {},
     "output_type": "execute_result"
    }
   ],
   "source": [
    "xcl_df['owner_id'].unique()"
   ]
  },
  {
   "cell_type": "code",
   "execution_count": 84,
   "metadata": {
    "ExecuteTime": {
     "end_time": "2020-12-18T19:09:24.721999Z",
     "start_time": "2020-12-18T19:09:24.547052Z"
    },
    "hidden": true
   },
   "outputs": [
    {
     "data": {
      "text/plain": [
       "{-1: 382181}"
      ]
     },
     "execution_count": 84,
     "metadata": {},
     "output_type": "execute_result"
    }
   ],
   "source": [
    "#Соберём количество подписчиков в пабликах, которые анализируем, для рассчёта ER Post и других метрик:\n",
    "followers = {owner_id: folower_count_get(abs(owner_id)) for owner_id in xcl_df['owner_id'].unique()}\n",
    "followers"
   ]
  },
  {
   "cell_type": "markdown",
   "metadata": {
    "heading_collapsed": true
   },
   "source": [
    "## Стартуем Воркбук (будет файлом)"
   ]
  },
  {
   "cell_type": "code",
   "execution_count": 85,
   "metadata": {
    "ExecuteTime": {
     "end_time": "2020-12-18T19:09:27.349613Z",
     "start_time": "2020-12-18T19:09:27.342352Z"
    },
    "hidden": true
   },
   "outputs": [
    {
     "data": {
      "text/plain": [
       "<openpyxl.workbook.workbook.Workbook at 0x7f8e6616ac40>"
      ]
     },
     "execution_count": 85,
     "metadata": {},
     "output_type": "execute_result"
    }
   ],
   "source": [
    "wb = Workbook() # Инициализация объекта Воркбук\n",
    "wb"
   ]
  },
  {
   "cell_type": "markdown",
   "metadata": {
    "ExecuteTime": {
     "end_time": "2020-12-18T13:26:12.061429Z",
     "start_time": "2020-12-18T13:26:12.058511Z"
    },
    "heading_collapsed": true
   },
   "source": [
    "## Эксперименты (старый материал, пробы, можно не смотреть)"
   ]
  },
  {
   "cell_type": "code",
   "execution_count": 18,
   "metadata": {
    "ExecuteTime": {
     "end_time": "2020-12-17T12:47:38.517736Z",
     "start_time": "2020-12-17T12:47:38.512910Z"
    },
    "hidden": true
   },
   "outputs": [
    {
     "name": "stdout",
     "output_type": "stream",
     "text": [
      "<Worksheet \"Sheet\">\n"
     ]
    }
   ],
   "source": [
    "ws = wb.active\n",
    "print(ws)"
   ]
  },
  {
   "cell_type": "code",
   "execution_count": 28,
   "metadata": {
    "ExecuteTime": {
     "end_time": "2020-12-17T13:11:14.213867Z",
     "start_time": "2020-12-17T13:11:14.208520Z"
    },
    "hidden": true
   },
   "outputs": [
    {
     "data": {
      "text/plain": [
       "<Worksheet \"Mysheet4\">"
      ]
     },
     "execution_count": 28,
     "metadata": {},
     "output_type": "execute_result"
    }
   ],
   "source": [
    "ws = wb.create_sheet(\"Mysheet\")\n",
    "ws"
   ]
  },
  {
   "cell_type": "code",
   "execution_count": 27,
   "metadata": {
    "ExecuteTime": {
     "end_time": "2020-12-17T13:11:02.190446Z",
     "start_time": "2020-12-17T13:11:02.184753Z"
    },
    "hidden": true
   },
   "outputs": [
    {
     "name": "stdout",
     "output_type": "stream",
     "text": [
      "<Cell 'Mysheet3'.A1>\n",
      "<Cell 'Mysheet3'.B1>\n",
      "<Cell 'Mysheet3'.C1>\n",
      "<Cell 'Mysheet3'.A2>\n",
      "<Cell 'Mysheet3'.B2>\n",
      "<Cell 'Mysheet3'.C2>\n"
     ]
    }
   ],
   "source": [
    "for row in ws.iter_rows(min_row=1, max_col=3, max_row=2):\n",
    "    for cell in row:\n",
    "        cell = cell\n",
    "        print(cell)"
   ]
  },
  {
   "cell_type": "code",
   "execution_count": 31,
   "metadata": {
    "ExecuteTime": {
     "end_time": "2020-12-17T13:12:40.541652Z",
     "start_time": "2020-12-17T13:12:40.537928Z"
    },
    "hidden": true
   },
   "outputs": [],
   "source": [
    "for row in ws.values:\n",
    "    for value in row:\n",
    "        print(value)"
   ]
  },
  {
   "cell_type": "code",
   "execution_count": 33,
   "metadata": {
    "ExecuteTime": {
     "end_time": "2020-12-17T13:13:42.489127Z",
     "start_time": "2020-12-17T13:13:42.482766Z"
    },
    "hidden": true
   },
   "outputs": [
    {
     "name": "stdout",
     "output_type": "stream",
     "text": [
      "(None, None, None)\n",
      "(None, None, None)\n"
     ]
    }
   ],
   "source": [
    "for row in ws.iter_rows(min_row=1, max_col=3, max_row=2, values_only=True):\n",
    "    print(row)"
   ]
  },
  {
   "cell_type": "code",
   "execution_count": 34,
   "metadata": {
    "ExecuteTime": {
     "end_time": "2020-12-17T13:15:01.552590Z",
     "start_time": "2020-12-17T13:15:01.532053Z"
    },
    "hidden": true
   },
   "outputs": [],
   "source": [
    "wb.save('excelstudy.xlsx')"
   ]
  },
  {
   "cell_type": "markdown",
   "metadata": {
    "hidden": true
   },
   "source": [
    "**Ага**, если несколько раз выполнять команду `ws = wb.create_sheet(\"Mysheet\")` то прошлый объект \"Mysheet\" никуда не денется из wb, и более того, в воркбук добавится новый объект \"Mysheet2..N\" (новый лист внутри файла), просто переменная ws будет указывать на новый лист, сохранив старый в файле."
   ]
  },
  {
   "cell_type": "code",
   "execution_count": 35,
   "metadata": {
    "ExecuteTime": {
     "end_time": "2020-12-17T13:19:06.575807Z",
     "start_time": "2020-12-17T13:19:06.569233Z"
    },
    "hidden": true
   },
   "outputs": [
    {
     "data": {
      "text/plain": [
       "['Sheet', 'Mysheet', 'Mysheet1', 'Mysheet2', 'Mysheet3', 'Mysheet4']"
      ]
     },
     "execution_count": 35,
     "metadata": {},
     "output_type": "execute_result"
    }
   ],
   "source": [
    "wb.sheetnames"
   ]
  },
  {
   "cell_type": "code",
   "execution_count": 36,
   "metadata": {
    "ExecuteTime": {
     "end_time": "2020-12-17T13:21:54.602160Z",
     "start_time": "2020-12-17T13:21:54.595965Z"
    },
    "hidden": true
   },
   "outputs": [],
   "source": [
    "wb = Workbook()"
   ]
  },
  {
   "cell_type": "code",
   "execution_count": 37,
   "metadata": {
    "ExecuteTime": {
     "end_time": "2020-12-17T13:22:01.598361Z",
     "start_time": "2020-12-17T13:22:01.595477Z"
    },
    "hidden": true
   },
   "outputs": [
    {
     "data": {
      "text/plain": [
       "<openpyxl.workbook.workbook.Workbook at 0x7f71ecbf6670>"
      ]
     },
     "execution_count": 37,
     "metadata": {},
     "output_type": "execute_result"
    }
   ],
   "source": [
    "wb"
   ]
  },
  {
   "cell_type": "code",
   "execution_count": 40,
   "metadata": {
    "ExecuteTime": {
     "end_time": "2020-12-17T13:25:06.049830Z",
     "start_time": "2020-12-17T13:25:05.463236Z"
    },
    "hidden": true
   },
   "outputs": [
    {
     "name": "stdout",
     "output_type": "stream",
     "text": [
      "AA\n"
     ]
    }
   ],
   "source": [
    "from openpyxl.utils import get_column_letter\n",
    "\n",
    "dest_filename = 'test_book.xlsx'\n",
    "\n",
    "ws1 = wb.active\n",
    "ws1.title = \"range names\"\n",
    "\n",
    "for row in range(1, 40):\n",
    "    ws1.append(range(600))\n",
    "\n",
    "ws2 = wb.create_sheet(title=\"Pi\")\n",
    "\n",
    "ws2['F5'] = 3.14\n",
    "\n",
    "ws3 = wb.create_sheet(title=\"Data\")\n",
    "for row in range(10, 20):\n",
    "    for col in range(27, 54):\n",
    "        ws3.cell(column=col, row=row, value=\"{0}\".format(get_column_letter(col)))\n",
    "        \n",
    "print(ws3['AA10'].value)\n",
    "\n",
    "wb.save(filename = dest_filename)\n"
   ]
  },
  {
   "cell_type": "code",
   "execution_count": 42,
   "metadata": {
    "ExecuteTime": {
     "end_time": "2020-12-17T13:25:54.284979Z",
     "start_time": "2020-12-17T13:25:54.279748Z"
    },
    "hidden": true
   },
   "outputs": [
    {
     "data": {
      "text/plain": [
       "<generator object Worksheet.values at 0x7f71ebcb7eb0>"
      ]
     },
     "execution_count": 42,
     "metadata": {},
     "output_type": "execute_result"
    }
   ],
   "source": [
    "ws1.values"
   ]
  },
  {
   "cell_type": "code",
   "execution_count": 18,
   "metadata": {
    "ExecuteTime": {
     "end_time": "2020-12-18T14:43:27.340011Z",
     "start_time": "2020-12-18T14:43:27.331768Z"
    },
    "hidden": true
   },
   "outputs": [],
   "source": [
    "# Эксперименты\n",
    "#из файла Url\tLikes\tReposts\tComments\tViews\tDate\tAuthor\tER.v\tER.p\n",
    "xcl_df['ER.v'] = 100 * (xcl_df['likes'] + xcl_df['likes'] + xcl_df['comments']) / xcl_df['views']\n",
    "xcl_df['ER.p'] = 100 * (xcl_df['likes'] + xcl_df['likes'] + xcl_df['comments']) / followers[-1]\n"
   ]
  },
  {
   "cell_type": "code",
   "execution_count": 19,
   "metadata": {
    "ExecuteTime": {
     "end_time": "2020-12-18T14:43:33.004328Z",
     "start_time": "2020-12-18T14:43:32.995904Z"
    },
    "hidden": true
   },
   "outputs": [
    {
     "data": {
      "text/plain": [
       "0      1.302488\n",
       "1      2.712892\n",
       "2      1.657375\n",
       "3      1.274683\n",
       "4      0.224877\n",
       "         ...   \n",
       "176         inf\n",
       "177         inf\n",
       "178         inf\n",
       "179         inf\n",
       "180         inf\n",
       "Name: ER.v, Length: 181, dtype: float64"
      ]
     },
     "execution_count": 19,
     "metadata": {},
     "output_type": "execute_result"
    }
   ],
   "source": [
    "# Эксперименты\n",
    "xcl_df['ER.v']"
   ]
  },
  {
   "cell_type": "code",
   "execution_count": 20,
   "metadata": {
    "ExecuteTime": {
     "end_time": "2020-12-18T14:44:03.268721Z",
     "start_time": "2020-12-18T14:44:03.261287Z"
    },
    "hidden": true
   },
   "outputs": [
    {
     "data": {
      "text/plain": [
       "0      0.035062\n",
       "1      0.086609\n",
       "2      0.028782\n",
       "3      0.045267\n",
       "4      0.200169\n",
       "         ...   \n",
       "176    0.083992\n",
       "177    0.055210\n",
       "178    0.063060\n",
       "179    0.366060\n",
       "180    0.661734\n",
       "Name: ER.p, Length: 181, dtype: float64"
      ]
     },
     "execution_count": 20,
     "metadata": {},
     "output_type": "execute_result"
    }
   ],
   "source": [
    "# Эксперименты\n",
    "xcl_df['ER.p']"
   ]
  },
  {
   "cell_type": "code",
   "execution_count": 24,
   "metadata": {
    "ExecuteTime": {
     "end_time": "2020-12-18T15:06:34.940580Z",
     "start_time": "2020-12-18T15:06:34.908388Z"
    },
    "hidden": true
   },
   "outputs": [
    {
     "data": {
      "text/html": [
       "<div>\n",
       "<style scoped>\n",
       "    .dataframe tbody tr th:only-of-type {\n",
       "        vertical-align: middle;\n",
       "    }\n",
       "\n",
       "    .dataframe tbody tr th {\n",
       "        vertical-align: top;\n",
       "    }\n",
       "\n",
       "    .dataframe thead th {\n",
       "        text-align: right;\n",
       "    }\n",
       "</style>\n",
       "<table border=\"1\" class=\"dataframe\">\n",
       "  <thead>\n",
       "    <tr style=\"text-align: right;\">\n",
       "      <th></th>\n",
       "      <th>link</th>\n",
       "      <th>likes</th>\n",
       "      <th>reposts</th>\n",
       "      <th>comments</th>\n",
       "      <th>views</th>\n",
       "      <th>date</th>\n",
       "      <th>from_id</th>\n",
       "      <th>ER.v</th>\n",
       "      <th>ER.p</th>\n",
       "    </tr>\n",
       "  </thead>\n",
       "  <tbody>\n",
       "    <tr>\n",
       "      <th>0</th>\n",
       "      <td>https://vk.com/wall-1_397203</td>\n",
       "      <td>47</td>\n",
       "      <td>0</td>\n",
       "      <td>40</td>\n",
       "      <td>10288</td>\n",
       "      <td>2020-12-07 08:45:00</td>\n",
       "      <td>-1</td>\n",
       "      <td>1.302488</td>\n",
       "      <td>0.035062</td>\n",
       "    </tr>\n",
       "    <tr>\n",
       "      <th>1</th>\n",
       "      <td>https://vk.com/wall-1_397107</td>\n",
       "      <td>131</td>\n",
       "      <td>3</td>\n",
       "      <td>69</td>\n",
       "      <td>12201</td>\n",
       "      <td>2020-12-03 15:55:12</td>\n",
       "      <td>-1</td>\n",
       "      <td>2.712892</td>\n",
       "      <td>0.086609</td>\n",
       "    </tr>\n",
       "    <tr>\n",
       "      <th>2</th>\n",
       "      <td>https://vk.com/wall-1_397065</td>\n",
       "      <td>35</td>\n",
       "      <td>0</td>\n",
       "      <td>40</td>\n",
       "      <td>6637</td>\n",
       "      <td>2020-12-02 08:56:06</td>\n",
       "      <td>-1</td>\n",
       "      <td>1.657375</td>\n",
       "      <td>0.028782</td>\n",
       "    </tr>\n",
       "    <tr>\n",
       "      <th>3</th>\n",
       "      <td>https://vk.com/wall-1_396954</td>\n",
       "      <td>72</td>\n",
       "      <td>2</td>\n",
       "      <td>29</td>\n",
       "      <td>13572</td>\n",
       "      <td>2020-11-13 13:34:17</td>\n",
       "      <td>-1</td>\n",
       "      <td>1.274683</td>\n",
       "      <td>0.045267</td>\n",
       "    </tr>\n",
       "    <tr>\n",
       "      <th>4</th>\n",
       "      <td>https://vk.com/wall-1_396931</td>\n",
       "      <td>376</td>\n",
       "      <td>2</td>\n",
       "      <td>13</td>\n",
       "      <td>340186</td>\n",
       "      <td>2020-11-12 12:48:35</td>\n",
       "      <td>-1</td>\n",
       "      <td>0.224877</td>\n",
       "      <td>0.200169</td>\n",
       "    </tr>\n",
       "    <tr>\n",
       "      <th>...</th>\n",
       "      <td>...</td>\n",
       "      <td>...</td>\n",
       "      <td>...</td>\n",
       "      <td>...</td>\n",
       "      <td>...</td>\n",
       "      <td>...</td>\n",
       "      <td>...</td>\n",
       "      <td>...</td>\n",
       "      <td>...</td>\n",
       "    </tr>\n",
       "    <tr>\n",
       "      <th>176</th>\n",
       "      <td>https://vk.com/wall-1_240436</td>\n",
       "      <td>145</td>\n",
       "      <td>5</td>\n",
       "      <td>31</td>\n",
       "      <td>0</td>\n",
       "      <td>2011-02-05 11:54:32</td>\n",
       "      <td>-1</td>\n",
       "      <td>inf</td>\n",
       "      <td>0.083992</td>\n",
       "    </tr>\n",
       "    <tr>\n",
       "      <th>177</th>\n",
       "      <td>https://vk.com/wall-1_238413</td>\n",
       "      <td>103</td>\n",
       "      <td>7</td>\n",
       "      <td>5</td>\n",
       "      <td>0</td>\n",
       "      <td>2011-02-04 15:40:53</td>\n",
       "      <td>-1</td>\n",
       "      <td>inf</td>\n",
       "      <td>0.055210</td>\n",
       "    </tr>\n",
       "    <tr>\n",
       "      <th>178</th>\n",
       "      <td>https://vk.com/wall-1_236533</td>\n",
       "      <td>116</td>\n",
       "      <td>7</td>\n",
       "      <td>9</td>\n",
       "      <td>0</td>\n",
       "      <td>2011-02-03 18:17:06</td>\n",
       "      <td>-1</td>\n",
       "      <td>inf</td>\n",
       "      <td>0.063060</td>\n",
       "    </tr>\n",
       "    <tr>\n",
       "      <th>179</th>\n",
       "      <td>https://vk.com/wall-1_55229</td>\n",
       "      <td>686</td>\n",
       "      <td>9</td>\n",
       "      <td>27</td>\n",
       "      <td>0</td>\n",
       "      <td>2010-11-08 20:13:17</td>\n",
       "      <td>-1</td>\n",
       "      <td>inf</td>\n",
       "      <td>0.366060</td>\n",
       "    </tr>\n",
       "    <tr>\n",
       "      <th>180</th>\n",
       "      <td>https://vk.com/wall-1_49296</td>\n",
       "      <td>1253</td>\n",
       "      <td>24</td>\n",
       "      <td>23</td>\n",
       "      <td>0</td>\n",
       "      <td>2010-11-04 21:56:15</td>\n",
       "      <td>-1</td>\n",
       "      <td>inf</td>\n",
       "      <td>0.661734</td>\n",
       "    </tr>\n",
       "  </tbody>\n",
       "</table>\n",
       "<p>181 rows × 9 columns</p>\n",
       "</div>"
      ],
      "text/plain": [
       "                             link  likes  reposts  comments   views  \\\n",
       "0    https://vk.com/wall-1_397203     47        0        40   10288   \n",
       "1    https://vk.com/wall-1_397107    131        3        69   12201   \n",
       "2    https://vk.com/wall-1_397065     35        0        40    6637   \n",
       "3    https://vk.com/wall-1_396954     72        2        29   13572   \n",
       "4    https://vk.com/wall-1_396931    376        2        13  340186   \n",
       "..                            ...    ...      ...       ...     ...   \n",
       "176  https://vk.com/wall-1_240436    145        5        31       0   \n",
       "177  https://vk.com/wall-1_238413    103        7         5       0   \n",
       "178  https://vk.com/wall-1_236533    116        7         9       0   \n",
       "179   https://vk.com/wall-1_55229    686        9        27       0   \n",
       "180   https://vk.com/wall-1_49296   1253       24        23       0   \n",
       "\n",
       "                   date  from_id      ER.v      ER.p  \n",
       "0   2020-12-07 08:45:00       -1  1.302488  0.035062  \n",
       "1   2020-12-03 15:55:12       -1  2.712892  0.086609  \n",
       "2   2020-12-02 08:56:06       -1  1.657375  0.028782  \n",
       "3   2020-11-13 13:34:17       -1  1.274683  0.045267  \n",
       "4   2020-11-12 12:48:35       -1  0.224877  0.200169  \n",
       "..                  ...      ...       ...       ...  \n",
       "176 2011-02-05 11:54:32       -1       inf  0.083992  \n",
       "177 2011-02-04 15:40:53       -1       inf  0.055210  \n",
       "178 2011-02-03 18:17:06       -1       inf  0.063060  \n",
       "179 2010-11-08 20:13:17       -1       inf  0.366060  \n",
       "180 2010-11-04 21:56:15       -1       inf  0.661734  \n",
       "\n",
       "[181 rows x 9 columns]"
      ]
     },
     "execution_count": 24,
     "metadata": {},
     "output_type": "execute_result"
    }
   ],
   "source": [
    "# Эксперименты\n",
    "xcl_df[['link', 'likes', 'reposts', 'comments', 'views', 'date', 'from_id', 'ER.v', 'ER.p']]"
   ]
  },
  {
   "cell_type": "code",
   "execution_count": null,
   "metadata": {
    "hidden": true
   },
   "outputs": [],
   "source": [
    "# Эксперименты\n",
    "# Разбиваем дату на два столбца если надо\n",
    "pre_df = xcl_df['date'].str.split(' ',expand=True) # Делим дату по пробелу\n",
    "pre_df.columns=['day','time']  # Формируем новые столбцы\n",
    "for column in pre_df.columns:\n",
    "    pre_df[column] = pre_df[column].str.replace(column+'=','') # Заменяем значение в каждой ячейке нового столбца на нужное\n",
    "pre_df = pd.concat([xcl_df,pre_df],axis=1).drop('date',axis=1) # Контатенируем датафреймы, чтобы добавились созданные столбцы \n",
    "ndf = pre_df.drop(['N', 'id'], axis=1) # Удаляем ненужные уже два столбца\n",
    "ndf['day'] =  pd.to_datetime(ndf['day'], format='%Y-%m-%d')\n",
    "ndf"
   ]
  },
  {
   "cell_type": "code",
   "execution_count": 30,
   "metadata": {
    "ExecuteTime": {
     "end_time": "2020-12-18T15:18:06.612425Z",
     "start_time": "2020-12-18T15:18:06.587861Z"
    },
    "hidden": true
   },
   "outputs": [
    {
     "data": {
      "text/html": [
       "<div>\n",
       "<style scoped>\n",
       "    .dataframe tbody tr th:only-of-type {\n",
       "        vertical-align: middle;\n",
       "    }\n",
       "\n",
       "    .dataframe tbody tr th {\n",
       "        vertical-align: top;\n",
       "    }\n",
       "\n",
       "    .dataframe thead th {\n",
       "        text-align: right;\n",
       "    }\n",
       "</style>\n",
       "<table border=\"1\" class=\"dataframe\">\n",
       "  <thead>\n",
       "    <tr style=\"text-align: right;\">\n",
       "      <th></th>\n",
       "      <th>N</th>\n",
       "      <th>id</th>\n",
       "      <th>from_id</th>\n",
       "      <th>owner_id</th>\n",
       "      <th>date</th>\n",
       "      <th>text</th>\n",
       "      <th>views</th>\n",
       "      <th>likes</th>\n",
       "      <th>reposts</th>\n",
       "      <th>comments</th>\n",
       "      <th>link</th>\n",
       "      <th>ER.v</th>\n",
       "      <th>ER.p</th>\n",
       "    </tr>\n",
       "  </thead>\n",
       "  <tbody>\n",
       "    <tr>\n",
       "      <th>3</th>\n",
       "      <td>3</td>\n",
       "      <td>396954</td>\n",
       "      <td>-1</td>\n",
       "      <td>-1</td>\n",
       "      <td>2020-11-13 13:34:17</td>\n",
       "      <td>Делимся некоторыми изменениями, связанными с C...</td>\n",
       "      <td>13572</td>\n",
       "      <td>72</td>\n",
       "      <td>2</td>\n",
       "      <td>29</td>\n",
       "      <td>https://vk.com/wall-1_396954</td>\n",
       "      <td>1.274683</td>\n",
       "      <td>0.045267</td>\n",
       "    </tr>\n",
       "    <tr>\n",
       "      <th>4</th>\n",
       "      <td>4</td>\n",
       "      <td>396931</td>\n",
       "      <td>-1</td>\n",
       "      <td>-1</td>\n",
       "      <td>2020-11-12 12:48:35</td>\n",
       "      <td>Выведите заработок на новый уровень — на 130% ...</td>\n",
       "      <td>340186</td>\n",
       "      <td>376</td>\n",
       "      <td>2</td>\n",
       "      <td>13</td>\n",
       "      <td>https://vk.com/wall-1_396931</td>\n",
       "      <td>0.224877</td>\n",
       "      <td>0.200169</td>\n",
       "    </tr>\n",
       "    <tr>\n",
       "      <th>5</th>\n",
       "      <td>5</td>\n",
       "      <td>396877</td>\n",
       "      <td>-1</td>\n",
       "      <td>-1</td>\n",
       "      <td>2020-11-10 15:20:00</td>\n",
       "      <td>Открыли методы и события для работы с VK Donut...</td>\n",
       "      <td>15147</td>\n",
       "      <td>109</td>\n",
       "      <td>7</td>\n",
       "      <td>41</td>\n",
       "      <td>https://vk.com/wall-1_396877</td>\n",
       "      <td>1.709910</td>\n",
       "      <td>0.067769</td>\n",
       "    </tr>\n",
       "    <tr>\n",
       "      <th>6</th>\n",
       "      <td>6</td>\n",
       "      <td>396765</td>\n",
       "      <td>-1</td>\n",
       "      <td>-1</td>\n",
       "      <td>2020-11-02 16:01:01</td>\n",
       "      <td>Обновили метод [https://vk.com/dev/messages.se...</td>\n",
       "      <td>16891</td>\n",
       "      <td>131</td>\n",
       "      <td>1</td>\n",
       "      <td>54</td>\n",
       "      <td>https://vk.com/wall-1_396765</td>\n",
       "      <td>1.870819</td>\n",
       "      <td>0.082684</td>\n",
       "    </tr>\n",
       "  </tbody>\n",
       "</table>\n",
       "</div>"
      ],
      "text/plain": [
       "   N      id  from_id  owner_id                date  \\\n",
       "3  3  396954       -1        -1 2020-11-13 13:34:17   \n",
       "4  4  396931       -1        -1 2020-11-12 12:48:35   \n",
       "5  5  396877       -1        -1 2020-11-10 15:20:00   \n",
       "6  6  396765       -1        -1 2020-11-02 16:01:01   \n",
       "\n",
       "                                                text   views  likes  reposts  \\\n",
       "3  Делимся некоторыми изменениями, связанными с C...   13572     72        2   \n",
       "4  Выведите заработок на новый уровень — на 130% ...  340186    376        2   \n",
       "5  Открыли методы и события для работы с VK Donut...   15147    109        7   \n",
       "6  Обновили метод [https://vk.com/dev/messages.se...   16891    131        1   \n",
       "\n",
       "   comments                          link      ER.v      ER.p  \n",
       "3        29  https://vk.com/wall-1_396954  1.274683  0.045267  \n",
       "4        13  https://vk.com/wall-1_396931  0.224877  0.200169  \n",
       "5        41  https://vk.com/wall-1_396877  1.709910  0.067769  \n",
       "6        54  https://vk.com/wall-1_396765  1.870819  0.082684  "
      ]
     },
     "execution_count": 30,
     "metadata": {},
     "output_type": "execute_result"
    }
   ],
   "source": [
    "# Эксперименты\n",
    "srez = xcl_df[xcl_df['date'].between('2020-11-01','2020-11-30', inclusive=True)]\n",
    "srez"
   ]
  },
  {
   "cell_type": "code",
   "execution_count": 27,
   "metadata": {
    "ExecuteTime": {
     "end_time": "2020-12-18T15:12:34.053945Z",
     "start_time": "2020-12-18T15:12:34.048463Z"
    },
    "hidden": true
   },
   "outputs": [
    {
     "data": {
      "text/plain": [
       "688"
      ]
     },
     "execution_count": 27,
     "metadata": {},
     "output_type": "execute_result"
    }
   ],
   "source": [
    "# Эксперименты\n",
    "srez['likes'].sum()"
   ]
  },
  {
   "cell_type": "code",
   "execution_count": 31,
   "metadata": {
    "ExecuteTime": {
     "end_time": "2020-12-18T15:26:27.074502Z",
     "start_time": "2020-12-18T15:26:27.068995Z"
    },
    "hidden": true
   },
   "outputs": [
    {
     "data": {
      "text/plain": [
       "3.0"
      ]
     },
     "execution_count": 31,
     "metadata": {},
     "output_type": "execute_result"
    }
   ],
   "source": [
    "# Эксперименты\n",
    "srez['reposts'].mean()"
   ]
  },
  {
   "cell_type": "markdown",
   "metadata": {
    "heading_collapsed": true
   },
   "source": [
    "# Первый лист - данные по постам и ЕР"
   ]
  },
  {
   "cell_type": "markdown",
   "metadata": {
    "hidden": true
   },
   "source": [
    "**xcl_df** - датафрейм с общими данными по всем собранным пабликам  \n",
    "**wb** - воркбук в котором работаем (объект, который будет итоговым файлом)  \n",
    "**ws1..N** - воркшит (объект, который будет страницей в файле)  \n",
    "  \n",
    "Чтобы записывать единственный воркшит в файл - лучше применить **.to_excel()** (Пандас)  \n",
    "Чтобы записывать несколько воркшитов в файл - следует применять **.ExcelWriter()** (Пандас)  "
   ]
  },
  {
   "cell_type": "code",
   "execution_count": 86,
   "metadata": {
    "ExecuteTime": {
     "end_time": "2020-12-18T19:09:30.454735Z",
     "start_time": "2020-12-18T19:09:30.451901Z"
    },
    "hidden": true
   },
   "outputs": [],
   "source": [
    "ws1 = wb.active # Активируем объект Воркбук и создаем первый воркшит\n",
    "ws1.title = \"Посты\" # Меняем имя воркшита, который создаётся по дефолту"
   ]
  },
  {
   "cell_type": "code",
   "execution_count": 87,
   "metadata": {
    "ExecuteTime": {
     "end_time": "2020-12-18T19:09:31.685363Z",
     "start_time": "2020-12-18T19:09:31.661460Z"
    },
    "hidden": true
   },
   "outputs": [],
   "source": [
    "# Формируем датафрейм по листу\n",
    "ws1_xcl_df = xcl_df[['link', 'likes', 'reposts', 'comments', 'views', 'date', 'from_id', 'ER.v', 'ER.p']]"
   ]
  },
  {
   "cell_type": "markdown",
   "metadata": {
    "heading_collapsed": true
   },
   "source": [
    "# Второй лист - Сводные данные по паблику"
   ]
  },
  {
   "cell_type": "code",
   "execution_count": 88,
   "metadata": {
    "ExecuteTime": {
     "end_time": "2020-12-18T19:09:34.109565Z",
     "start_time": "2020-12-18T19:09:34.106849Z"
    },
    "hidden": true
   },
   "outputs": [],
   "source": [
    "ws2 = wb.create_sheet(title=\"Сводные показатели\")"
   ]
  },
  {
   "cell_type": "code",
   "execution_count": 89,
   "metadata": {
    "ExecuteTime": {
     "end_time": "2020-12-18T19:09:34.919230Z",
     "start_time": "2020-12-18T19:09:34.852032Z"
    },
    "hidden": true
   },
   "outputs": [
    {
     "data": {
      "text/html": [
       "<div>\n",
       "<style scoped>\n",
       "    .dataframe tbody tr th:only-of-type {\n",
       "        vertical-align: middle;\n",
       "    }\n",
       "\n",
       "    .dataframe tbody tr th {\n",
       "        vertical-align: top;\n",
       "    }\n",
       "\n",
       "    .dataframe thead th {\n",
       "        text-align: right;\n",
       "    }\n",
       "</style>\n",
       "<table border=\"1\" class=\"dataframe\">\n",
       "  <thead>\n",
       "    <tr style=\"text-align: right;\">\n",
       "      <th></th>\n",
       "      <th>N</th>\n",
       "      <th>id</th>\n",
       "      <th>from_id</th>\n",
       "      <th>owner_id</th>\n",
       "      <th>date</th>\n",
       "      <th>text</th>\n",
       "      <th>views</th>\n",
       "      <th>likes</th>\n",
       "      <th>reposts</th>\n",
       "      <th>comments</th>\n",
       "      <th>link</th>\n",
       "      <th>ER.v</th>\n",
       "      <th>ER.p</th>\n",
       "    </tr>\n",
       "  </thead>\n",
       "  <tbody>\n",
       "    <tr>\n",
       "      <th>3</th>\n",
       "      <td>3</td>\n",
       "      <td>396954</td>\n",
       "      <td>-1</td>\n",
       "      <td>-1</td>\n",
       "      <td>2020-11-13 13:34:17</td>\n",
       "      <td>Делимся некоторыми изменениями, связанными с C...</td>\n",
       "      <td>13572</td>\n",
       "      <td>72</td>\n",
       "      <td>2</td>\n",
       "      <td>29</td>\n",
       "      <td>https://vk.com/wall-1_396954</td>\n",
       "      <td>1.274683</td>\n",
       "      <td>0.045267</td>\n",
       "    </tr>\n",
       "    <tr>\n",
       "      <th>4</th>\n",
       "      <td>4</td>\n",
       "      <td>396931</td>\n",
       "      <td>-1</td>\n",
       "      <td>-1</td>\n",
       "      <td>2020-11-12 12:48:35</td>\n",
       "      <td>Выведите заработок на новый уровень — на 130% ...</td>\n",
       "      <td>340186</td>\n",
       "      <td>376</td>\n",
       "      <td>2</td>\n",
       "      <td>13</td>\n",
       "      <td>https://vk.com/wall-1_396931</td>\n",
       "      <td>0.224877</td>\n",
       "      <td>0.200169</td>\n",
       "    </tr>\n",
       "    <tr>\n",
       "      <th>5</th>\n",
       "      <td>5</td>\n",
       "      <td>396877</td>\n",
       "      <td>-1</td>\n",
       "      <td>-1</td>\n",
       "      <td>2020-11-10 15:20:00</td>\n",
       "      <td>Открыли методы и события для работы с VK Donut...</td>\n",
       "      <td>15147</td>\n",
       "      <td>109</td>\n",
       "      <td>7</td>\n",
       "      <td>41</td>\n",
       "      <td>https://vk.com/wall-1_396877</td>\n",
       "      <td>1.709910</td>\n",
       "      <td>0.067769</td>\n",
       "    </tr>\n",
       "    <tr>\n",
       "      <th>6</th>\n",
       "      <td>6</td>\n",
       "      <td>396765</td>\n",
       "      <td>-1</td>\n",
       "      <td>-1</td>\n",
       "      <td>2020-11-02 16:01:01</td>\n",
       "      <td>Обновили метод [https://vk.com/dev/messages.se...</td>\n",
       "      <td>16891</td>\n",
       "      <td>131</td>\n",
       "      <td>1</td>\n",
       "      <td>54</td>\n",
       "      <td>https://vk.com/wall-1_396765</td>\n",
       "      <td>1.870819</td>\n",
       "      <td>0.082684</td>\n",
       "    </tr>\n",
       "  </tbody>\n",
       "</table>\n",
       "</div>"
      ],
      "text/plain": [
       "   N      id  from_id  owner_id                date  \\\n",
       "3  3  396954       -1        -1 2020-11-13 13:34:17   \n",
       "4  4  396931       -1        -1 2020-11-12 12:48:35   \n",
       "5  5  396877       -1        -1 2020-11-10 15:20:00   \n",
       "6  6  396765       -1        -1 2020-11-02 16:01:01   \n",
       "\n",
       "                                                text   views  likes  reposts  \\\n",
       "3  Делимся некоторыми изменениями, связанными с C...   13572     72        2   \n",
       "4  Выведите заработок на новый уровень — на 130% ...  340186    376        2   \n",
       "5  Открыли методы и события для работы с VK Donut...   15147    109        7   \n",
       "6  Обновили метод [https://vk.com/dev/messages.se...   16891    131        1   \n",
       "\n",
       "   comments                          link      ER.v      ER.p  \n",
       "3        29  https://vk.com/wall-1_396954  1.274683  0.045267  \n",
       "4        13  https://vk.com/wall-1_396931  0.224877  0.200169  \n",
       "5        41  https://vk.com/wall-1_396877  1.709910  0.067769  \n",
       "6        54  https://vk.com/wall-1_396765  1.870819  0.082684  "
      ]
     },
     "execution_count": 89,
     "metadata": {},
     "output_type": "execute_result"
    }
   ],
   "source": [
    "PERIOD = ['2020-11-01', '2020-11-30'] # Задаём интервал сведения показателей ['от', 'до'], константа, вынести в начало\n",
    "srez = xcl_df[xcl_df['date'].between(PERIOD[0], PERIOD[1], inclusive=True)]\n",
    "srez"
   ]
  },
  {
   "cell_type": "code",
   "execution_count": 90,
   "metadata": {
    "ExecuteTime": {
     "end_time": "2020-12-18T19:09:37.359774Z",
     "start_time": "2020-12-18T19:09:37.349444Z"
    },
    "hidden": true
   },
   "outputs": [],
   "source": [
    "# Формируем датафрейм по листу\n",
    "# xcl_df[['link', 'likes', 'reposts', 'comments', 'views', 'date', 'from_id', 'ER.v', 'ER.p']]\n",
    "ws2_xcl_df = pd.DataFrame()\n",
    "\n",
    "link = 'vk.com/public1' # пока руками зададим, потом циклом\n",
    "period = PERIOD[0] + ' ' + PERIOD[1]\n",
    "\n",
    "ws2_xcl_df['link'] = link\n",
    "ws2_xcl_df['period'] = period\n",
    "ws2_xcl_df['period2'] = PERIOD\n",
    "ws2_xcl_df['followers'] = followers[-1] # пока руками зададим, потом циклом\n",
    "ws2_xcl_df['likes'] = srez['likes'].sum()\n",
    "ws2_xcl_df['reposts'] = srez['reposts'].sum()\n",
    "ws2_xcl_df['comments'] = srez['comments'].sum()\n",
    "ws2_xcl_df['ER.v'] = srez['ER.v'].mean()\n",
    "ws2_xcl_df['ER.p'] = srez['ER.p'].mean()"
   ]
  },
  {
   "cell_type": "code",
   "execution_count": 78,
   "metadata": {
    "ExecuteTime": {
     "end_time": "2020-12-18T16:40:03.772904Z",
     "start_time": "2020-12-18T16:40:03.764475Z"
    },
    "hidden": true
   },
   "outputs": [
    {
     "data": {
      "text/plain": [
       "0    NaN\n",
       "1    NaN\n",
       "Name: period, dtype: object"
      ]
     },
     "execution_count": 78,
     "metadata": {},
     "output_type": "execute_result"
    }
   ],
   "source": []
  },
  {
   "cell_type": "markdown",
   "metadata": {
    "heading_collapsed": true
   },
   "source": [
    "# Третий лист - Сводные по неделям (не готово)"
   ]
  },
  {
   "cell_type": "code",
   "execution_count": null,
   "metadata": {
    "hidden": true
   },
   "outputs": [],
   "source": [
    "#ws3 = wb.create_sheet(title=\"Сводные недельные\")\n",
    "\n",
    "ws3_xcl_df = pd.DataFrame() # Формируем датафрейм по листу"
   ]
  },
  {
   "cell_type": "markdown",
   "metadata": {
    "heading_collapsed": true
   },
   "source": [
    "# Четвертый лист - Сводные по месяцам (не готово)"
   ]
  },
  {
   "cell_type": "code",
   "execution_count": null,
   "metadata": {
    "hidden": true
   },
   "outputs": [],
   "source": [
    "#ws4 = wb.create_sheet(title=\"Сводные месячные\")\n",
    "\n",
    "ws4_xcl_df = pd.DataFrame() # Формируем датафрейм по листу"
   ]
  },
  {
   "cell_type": "markdown",
   "metadata": {
    "heading_collapsed": true
   },
   "source": [
    "# Пятый лист - Графики (не готово)"
   ]
  },
  {
   "cell_type": "code",
   "execution_count": null,
   "metadata": {
    "hidden": true
   },
   "outputs": [],
   "source": [
    "#ws5 = wb.create_sheet(title=\"Сводные графики\")\n",
    "\n",
    "ws5_xcl_df = pd.DataFrame() # Формируем датафрейм по листу"
   ]
  },
  {
   "cell_type": "markdown",
   "metadata": {
    "heading_collapsed": true
   },
   "source": [
    "# Сохраняем"
   ]
  },
  {
   "cell_type": "code",
   "execution_count": 91,
   "metadata": {
    "ExecuteTime": {
     "end_time": "2020-12-18T19:09:41.621812Z",
     "start_time": "2020-12-18T19:09:41.260585Z"
    },
    "hidden": true
   },
   "outputs": [],
   "source": [
    "filename_path = 'itog_test_book.xlsx' # Тут надо имя файла сделать по имени паблика и периода\n",
    "wb.save(filename = filename_path)\n",
    "\n",
    "with pd.ExcelWriter(filename_path) as writer:\n",
    "    ws1_xcl_df.to_excel(writer, sheet_name='Посты')\n",
    "    ws2_xcl_df.to_excel(writer, sheet_name='Сводные показатели')\n",
    "    #ws3_xcl_df.to_excel(writer, sheet_name='Сводные недельные')\n",
    "    #ws4_xcl_df.to_excel(writer, sheet_name='Сводные месячные')\n",
    "    #ws5_xcl_df.to_excel(writer, sheet_name='Сводные графики')"
   ]
  },
  {
   "cell_type": "markdown",
   "metadata": {},
   "source": [
    "# Эксперименты"
   ]
  },
  {
   "cell_type": "markdown",
   "metadata": {},
   "source": [
    "Тут пока ничего"
   ]
  },
  {
   "cell_type": "code",
   "execution_count": null,
   "metadata": {},
   "outputs": [],
   "source": []
  }
 ],
 "metadata": {
  "kernelspec": {
   "display_name": "Python 3",
   "language": "python",
   "name": "python3"
  },
  "language_info": {
   "codemirror_mode": {
    "name": "ipython",
    "version": 3
   },
   "file_extension": ".py",
   "mimetype": "text/x-python",
   "name": "python",
   "nbconvert_exporter": "python",
   "pygments_lexer": "ipython3",
   "version": "3.7.3"
  },
  "toc": {
   "base_numbering": 1,
   "nav_menu": {},
   "number_sections": false,
   "sideBar": true,
   "skip_h1_title": false,
   "title_cell": "Table of Contents",
   "title_sidebar": "Contents",
   "toc_cell": false,
   "toc_position": {},
   "toc_section_display": true,
   "toc_window_display": false
  },
  "varInspector": {
   "cols": {
    "lenName": 16,
    "lenType": 16,
    "lenVar": 40
   },
   "kernels_config": {
    "python": {
     "delete_cmd_postfix": "",
     "delete_cmd_prefix": "del ",
     "library": "var_list.py",
     "varRefreshCmd": "print(var_dic_list())"
    },
    "r": {
     "delete_cmd_postfix": ") ",
     "delete_cmd_prefix": "rm(",
     "library": "var_list.r",
     "varRefreshCmd": "cat(var_dic_list()) "
    }
   },
   "position": {
    "height": "428.85px",
    "left": "1062px",
    "right": "20px",
    "top": "93px",
    "width": "525px"
   },
   "types_to_exclude": [
    "module",
    "function",
    "builtin_function_or_method",
    "instance",
    "_Feature"
   ],
   "window_display": false
  }
 },
 "nbformat": 4,
 "nbformat_minor": 4
}
