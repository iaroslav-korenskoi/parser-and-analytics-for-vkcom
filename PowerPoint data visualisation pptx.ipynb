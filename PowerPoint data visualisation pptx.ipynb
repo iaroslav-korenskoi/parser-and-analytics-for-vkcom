{
 "cells": [
  {
   "cell_type": "markdown",
   "metadata": {
    "heading_collapsed": true
   },
   "source": [
    "# Импорты и дефолтные функции и датафреймы"
   ]
  },
  {
   "cell_type": "code",
   "execution_count": 36,
   "metadata": {
    "ExecuteTime": {
     "end_time": "2020-12-18T18:14:59.497430Z",
     "start_time": "2020-12-18T18:14:59.493953Z"
    },
    "hidden": true
   },
   "outputs": [],
   "source": [
    "import requests\n",
    "\n",
    "from pptx import Presentation\n",
    "from pptx.util import Inches, Pt\n",
    "import pandas as pd "
   ]
  },
  {
   "cell_type": "code",
   "execution_count": 37,
   "metadata": {
    "ExecuteTime": {
     "end_time": "2020-12-18T18:14:59.999533Z",
     "start_time": "2020-12-18T18:14:59.996006Z"
    },
    "hidden": true
   },
   "outputs": [],
   "source": [
    "TOKEN_ID = '' # ← Поставь тут твой токен\n",
    "API_V = '5.126'\n",
    "PERIOD = ['2020-11-01', '2020-11-30'] # Задаём интервал сведения показателей ['от', 'до'], константа, вынести в начало"
   ]
  },
  {
   "cell_type": "code",
   "execution_count": 38,
   "metadata": {
    "ExecuteTime": {
     "end_time": "2020-12-18T18:15:00.103427Z",
     "start_time": "2020-12-18T18:15:00.072665Z"
    },
    "hidden": true
   },
   "outputs": [],
   "source": [
    "def folower_count_get(owner_id):\n",
    "    try:\n",
    "        rf = requests.get('https://api.vk.com/method/groups.getMembers', params={'group_id': owner_id,\n",
    "                                                                                 'v': API_V,\n",
    "                                                                                 'access_token': TOKEN_ID})\n",
    "    except Exception as err:\n",
    "        return err\n",
    "    \n",
    "    rf_response = rf.json()\n",
    "    return rf_response['response']['count']"
   ]
  },
  {
   "cell_type": "code",
   "execution_count": 40,
   "metadata": {
    "ExecuteTime": {
     "end_time": "2020-12-18T18:15:00.481318Z",
     "start_time": "2020-12-18T18:15:00.262136Z"
    },
    "hidden": true
   },
   "outputs": [
    {
     "data": {
      "text/plain": [
       "{-1: 382180}"
      ]
     },
     "execution_count": 40,
     "metadata": {},
     "output_type": "execute_result"
    }
   ],
   "source": [
    "# Соберём количество подписчиков в пабликах, которые анализируем, для рассчёта ER Post и других метрик:\n",
    "followers = {owner_id: folower_count_get(abs(owner_id)) for owner_id in pwpt_df['owner_id'].unique()}\n",
    "followers"
   ]
  },
  {
   "cell_type": "code",
   "execution_count": 41,
   "metadata": {
    "ExecuteTime": {
     "end_time": "2020-12-18T18:15:00.563640Z",
     "start_time": "2020-12-18T18:15:00.513248Z"
    },
    "hidden": true
   },
   "outputs": [
    {
     "data": {
      "text/html": [
       "<div>\n",
       "<style scoped>\n",
       "    .dataframe tbody tr th:only-of-type {\n",
       "        vertical-align: middle;\n",
       "    }\n",
       "\n",
       "    .dataframe tbody tr th {\n",
       "        vertical-align: top;\n",
       "    }\n",
       "\n",
       "    .dataframe thead th {\n",
       "        text-align: right;\n",
       "    }\n",
       "</style>\n",
       "<table border=\"1\" class=\"dataframe\">\n",
       "  <thead>\n",
       "    <tr style=\"text-align: right;\">\n",
       "      <th></th>\n",
       "      <th>N</th>\n",
       "      <th>id</th>\n",
       "      <th>from_id</th>\n",
       "      <th>owner_id</th>\n",
       "      <th>date</th>\n",
       "      <th>text</th>\n",
       "      <th>views</th>\n",
       "      <th>likes</th>\n",
       "      <th>reposts</th>\n",
       "      <th>comments</th>\n",
       "      <th>link</th>\n",
       "      <th>ER.v</th>\n",
       "      <th>ER.p</th>\n",
       "    </tr>\n",
       "  </thead>\n",
       "  <tbody>\n",
       "    <tr>\n",
       "      <th>0</th>\n",
       "      <td>0</td>\n",
       "      <td>397203</td>\n",
       "      <td>-1</td>\n",
       "      <td>-1</td>\n",
       "      <td>2020-12-07 08:45:00</td>\n",
       "      <td>10 декабря в 19:00 собираемся на седьмом митап...</td>\n",
       "      <td>10288</td>\n",
       "      <td>47</td>\n",
       "      <td>0</td>\n",
       "      <td>40</td>\n",
       "      <td>https://vk.com/wall-1_397203</td>\n",
       "      <td>1.302488</td>\n",
       "      <td>0.035062</td>\n",
       "    </tr>\n",
       "    <tr>\n",
       "      <th>1</th>\n",
       "      <td>1</td>\n",
       "      <td>397107</td>\n",
       "      <td>-1</td>\n",
       "      <td>-1</td>\n",
       "      <td>2020-12-03 15:55:12</td>\n",
       "      <td>Прокачали messages.pin: отныне бот с правами а...</td>\n",
       "      <td>12201</td>\n",
       "      <td>131</td>\n",
       "      <td>3</td>\n",
       "      <td>69</td>\n",
       "      <td>https://vk.com/wall-1_397107</td>\n",
       "      <td>2.712892</td>\n",
       "      <td>0.086608</td>\n",
       "    </tr>\n",
       "    <tr>\n",
       "      <th>2</th>\n",
       "      <td>2</td>\n",
       "      <td>397065</td>\n",
       "      <td>-1</td>\n",
       "      <td>-1</td>\n",
       "      <td>2020-12-02 08:56:06</td>\n",
       "      <td>Теперь можно размещать свой проект сразу на дв...</td>\n",
       "      <td>6637</td>\n",
       "      <td>35</td>\n",
       "      <td>0</td>\n",
       "      <td>40</td>\n",
       "      <td>https://vk.com/wall-1_397065</td>\n",
       "      <td>1.657375</td>\n",
       "      <td>0.028782</td>\n",
       "    </tr>\n",
       "    <tr>\n",
       "      <th>3</th>\n",
       "      <td>3</td>\n",
       "      <td>396954</td>\n",
       "      <td>-1</td>\n",
       "      <td>-1</td>\n",
       "      <td>2020-11-13 13:34:17</td>\n",
       "      <td>Делимся некоторыми изменениями, связанными с C...</td>\n",
       "      <td>13572</td>\n",
       "      <td>72</td>\n",
       "      <td>2</td>\n",
       "      <td>29</td>\n",
       "      <td>https://vk.com/wall-1_396954</td>\n",
       "      <td>1.274683</td>\n",
       "      <td>0.045267</td>\n",
       "    </tr>\n",
       "    <tr>\n",
       "      <th>4</th>\n",
       "      <td>4</td>\n",
       "      <td>396931</td>\n",
       "      <td>-1</td>\n",
       "      <td>-1</td>\n",
       "      <td>2020-11-12 12:48:35</td>\n",
       "      <td>Выведите заработок на новый уровень — на 130% ...</td>\n",
       "      <td>340186</td>\n",
       "      <td>376</td>\n",
       "      <td>2</td>\n",
       "      <td>13</td>\n",
       "      <td>https://vk.com/wall-1_396931</td>\n",
       "      <td>0.224877</td>\n",
       "      <td>0.200167</td>\n",
       "    </tr>\n",
       "    <tr>\n",
       "      <th>...</th>\n",
       "      <td>...</td>\n",
       "      <td>...</td>\n",
       "      <td>...</td>\n",
       "      <td>...</td>\n",
       "      <td>...</td>\n",
       "      <td>...</td>\n",
       "      <td>...</td>\n",
       "      <td>...</td>\n",
       "      <td>...</td>\n",
       "      <td>...</td>\n",
       "      <td>...</td>\n",
       "      <td>...</td>\n",
       "      <td>...</td>\n",
       "    </tr>\n",
       "    <tr>\n",
       "      <th>176</th>\n",
       "      <td>176</td>\n",
       "      <td>240436</td>\n",
       "      <td>-1</td>\n",
       "      <td>-1</td>\n",
       "      <td>2011-02-05 11:54:32</td>\n",
       "      <td>Теперь openApi приложения тоже могут использов...</td>\n",
       "      <td>0</td>\n",
       "      <td>145</td>\n",
       "      <td>5</td>\n",
       "      <td>31</td>\n",
       "      <td>https://vk.com/wall-1_240436</td>\n",
       "      <td>inf</td>\n",
       "      <td>0.083992</td>\n",
       "    </tr>\n",
       "    <tr>\n",
       "      <th>177</th>\n",
       "      <td>177</td>\n",
       "      <td>238413</td>\n",
       "      <td>-1</td>\n",
       "      <td>-1</td>\n",
       "      <td>2011-02-04 15:40:53</td>\n",
       "      <td>Подключение виджетов в IFrame-приложениях http...</td>\n",
       "      <td>0</td>\n",
       "      <td>103</td>\n",
       "      <td>7</td>\n",
       "      <td>5</td>\n",
       "      <td>https://vk.com/wall-1_238413</td>\n",
       "      <td>inf</td>\n",
       "      <td>0.055210</td>\n",
       "    </tr>\n",
       "    <tr>\n",
       "      <th>178</th>\n",
       "      <td>178</td>\n",
       "      <td>236533</td>\n",
       "      <td>-1</td>\n",
       "      <td>-1</td>\n",
       "      <td>2011-02-03 18:17:06</td>\n",
       "      <td>Обновлён метод wall.post для публикации записе...</td>\n",
       "      <td>0</td>\n",
       "      <td>116</td>\n",
       "      <td>7</td>\n",
       "      <td>9</td>\n",
       "      <td>https://vk.com/wall-1_236533</td>\n",
       "      <td>inf</td>\n",
       "      <td>0.063059</td>\n",
       "    </tr>\n",
       "    <tr>\n",
       "      <th>179</th>\n",
       "      <td>179</td>\n",
       "      <td>55229</td>\n",
       "      <td>-1</td>\n",
       "      <td>-1</td>\n",
       "      <td>2010-11-08 20:13:17</td>\n",
       "      <td>Результаты второго этапа конкурса на разработк...</td>\n",
       "      <td>0</td>\n",
       "      <td>686</td>\n",
       "      <td>9</td>\n",
       "      <td>27</td>\n",
       "      <td>https://vk.com/wall-1_55229</td>\n",
       "      <td>inf</td>\n",
       "      <td>0.366058</td>\n",
       "    </tr>\n",
       "    <tr>\n",
       "      <th>180</th>\n",
       "      <td>180</td>\n",
       "      <td>49296</td>\n",
       "      <td>-1</td>\n",
       "      <td>-1</td>\n",
       "      <td>2010-11-04 21:56:15</td>\n",
       "      <td>NaN</td>\n",
       "      <td>0</td>\n",
       "      <td>1253</td>\n",
       "      <td>24</td>\n",
       "      <td>23</td>\n",
       "      <td>https://vk.com/wall-1_49296</td>\n",
       "      <td>inf</td>\n",
       "      <td>0.661730</td>\n",
       "    </tr>\n",
       "  </tbody>\n",
       "</table>\n",
       "<p>181 rows × 13 columns</p>\n",
       "</div>"
      ],
      "text/plain": [
       "       N      id  from_id  owner_id                date  \\\n",
       "0      0  397203       -1        -1 2020-12-07 08:45:00   \n",
       "1      1  397107       -1        -1 2020-12-03 15:55:12   \n",
       "2      2  397065       -1        -1 2020-12-02 08:56:06   \n",
       "3      3  396954       -1        -1 2020-11-13 13:34:17   \n",
       "4      4  396931       -1        -1 2020-11-12 12:48:35   \n",
       "..   ...     ...      ...       ...                 ...   \n",
       "176  176  240436       -1        -1 2011-02-05 11:54:32   \n",
       "177  177  238413       -1        -1 2011-02-04 15:40:53   \n",
       "178  178  236533       -1        -1 2011-02-03 18:17:06   \n",
       "179  179   55229       -1        -1 2010-11-08 20:13:17   \n",
       "180  180   49296       -1        -1 2010-11-04 21:56:15   \n",
       "\n",
       "                                                  text   views  likes  \\\n",
       "0    10 декабря в 19:00 собираемся на седьмом митап...   10288     47   \n",
       "1    Прокачали messages.pin: отныне бот с правами а...   12201    131   \n",
       "2    Теперь можно размещать свой проект сразу на дв...    6637     35   \n",
       "3    Делимся некоторыми изменениями, связанными с C...   13572     72   \n",
       "4    Выведите заработок на новый уровень — на 130% ...  340186    376   \n",
       "..                                                 ...     ...    ...   \n",
       "176  Теперь openApi приложения тоже могут использов...       0    145   \n",
       "177  Подключение виджетов в IFrame-приложениях http...       0    103   \n",
       "178  Обновлён метод wall.post для публикации записе...       0    116   \n",
       "179  Результаты второго этапа конкурса на разработк...       0    686   \n",
       "180                                                NaN       0   1253   \n",
       "\n",
       "     reposts  comments                          link      ER.v      ER.p  \n",
       "0          0        40  https://vk.com/wall-1_397203  1.302488  0.035062  \n",
       "1          3        69  https://vk.com/wall-1_397107  2.712892  0.086608  \n",
       "2          0        40  https://vk.com/wall-1_397065  1.657375  0.028782  \n",
       "3          2        29  https://vk.com/wall-1_396954  1.274683  0.045267  \n",
       "4          2        13  https://vk.com/wall-1_396931  0.224877  0.200167  \n",
       "..       ...       ...                           ...       ...       ...  \n",
       "176        5        31  https://vk.com/wall-1_240436       inf  0.083992  \n",
       "177        7         5  https://vk.com/wall-1_238413       inf  0.055210  \n",
       "178        7         9  https://vk.com/wall-1_236533       inf  0.063059  \n",
       "179        9        27   https://vk.com/wall-1_55229       inf  0.366058  \n",
       "180       24        23   https://vk.com/wall-1_49296       inf  0.661730  \n",
       "\n",
       "[181 rows x 13 columns]"
      ]
     },
     "execution_count": 41,
     "metadata": {},
     "output_type": "execute_result"
    }
   ],
   "source": [
    "# Читаем файл, который получили в блокноте с функциями парсинга\n",
    "pwpt_df = pd.read_csv('vk_wall_get_1public.csv', header=None)\n",
    "pwpt_df.columns=['N', 'id', 'from_id', 'owner_id', 'date', 'text', 'views', 'likes', 'reposts', 'comments']\n",
    "pwpt_df['link'] = 'https://vk.com/wall' + pwpt_df['owner_id'].map(str) + '_' + pwpt_df['id'].map(str)\n",
    "\n",
    "# Конвертируем дату\n",
    "pwpt_df['date'] = pd.to_datetime(pwpt_df['date'], unit='s')\n",
    "\n",
    "# Считаем и добавляем столбцы ER.v и ER.p\n",
    "pwpt_df['ER.v'] = 100 * (pwpt_df['likes'] + pwpt_df['likes'] + pwpt_df['comments']) / pwpt_df['views']\n",
    "pwpt_df['ER.p'] = 100 * (pwpt_df['likes'] + pwpt_df['likes'] + pwpt_df['comments']) / followers[-1]\n",
    "\n",
    "pwpt_df"
   ]
  },
  {
   "cell_type": "code",
   "execution_count": 42,
   "metadata": {
    "ExecuteTime": {
     "end_time": "2020-12-18T18:15:00.615486Z",
     "start_time": "2020-12-18T18:15:00.579274Z"
    },
    "hidden": true
   },
   "outputs": [
    {
     "data": {
      "text/plain": [
       "array([-1])"
      ]
     },
     "execution_count": 42,
     "metadata": {},
     "output_type": "execute_result"
    }
   ],
   "source": [
    "owner_list = pwpt_df['owner_id'].unique()\n",
    "owner_list"
   ]
  },
  {
   "cell_type": "code",
   "execution_count": 43,
   "metadata": {
    "ExecuteTime": {
     "end_time": "2020-12-18T18:15:00.746425Z",
     "start_time": "2020-12-18T18:15:00.654338Z"
    },
    "hidden": true
   },
   "outputs": [
    {
     "data": {
      "text/html": [
       "<div>\n",
       "<style scoped>\n",
       "    .dataframe tbody tr th:only-of-type {\n",
       "        vertical-align: middle;\n",
       "    }\n",
       "\n",
       "    .dataframe tbody tr th {\n",
       "        vertical-align: top;\n",
       "    }\n",
       "\n",
       "    .dataframe thead th {\n",
       "        text-align: right;\n",
       "    }\n",
       "</style>\n",
       "<table border=\"1\" class=\"dataframe\">\n",
       "  <thead>\n",
       "    <tr style=\"text-align: right;\">\n",
       "      <th></th>\n",
       "      <th>N</th>\n",
       "      <th>id</th>\n",
       "      <th>from_id</th>\n",
       "      <th>owner_id</th>\n",
       "      <th>date</th>\n",
       "      <th>text</th>\n",
       "      <th>views</th>\n",
       "      <th>likes</th>\n",
       "      <th>reposts</th>\n",
       "      <th>comments</th>\n",
       "      <th>link</th>\n",
       "      <th>ER.v</th>\n",
       "      <th>ER.p</th>\n",
       "    </tr>\n",
       "  </thead>\n",
       "  <tbody>\n",
       "    <tr>\n",
       "      <th>3</th>\n",
       "      <td>3</td>\n",
       "      <td>396954</td>\n",
       "      <td>-1</td>\n",
       "      <td>-1</td>\n",
       "      <td>2020-11-13 13:34:17</td>\n",
       "      <td>Делимся некоторыми изменениями, связанными с C...</td>\n",
       "      <td>13572</td>\n",
       "      <td>72</td>\n",
       "      <td>2</td>\n",
       "      <td>29</td>\n",
       "      <td>https://vk.com/wall-1_396954</td>\n",
       "      <td>1.274683</td>\n",
       "      <td>0.045267</td>\n",
       "    </tr>\n",
       "    <tr>\n",
       "      <th>4</th>\n",
       "      <td>4</td>\n",
       "      <td>396931</td>\n",
       "      <td>-1</td>\n",
       "      <td>-1</td>\n",
       "      <td>2020-11-12 12:48:35</td>\n",
       "      <td>Выведите заработок на новый уровень — на 130% ...</td>\n",
       "      <td>340186</td>\n",
       "      <td>376</td>\n",
       "      <td>2</td>\n",
       "      <td>13</td>\n",
       "      <td>https://vk.com/wall-1_396931</td>\n",
       "      <td>0.224877</td>\n",
       "      <td>0.200167</td>\n",
       "    </tr>\n",
       "    <tr>\n",
       "      <th>5</th>\n",
       "      <td>5</td>\n",
       "      <td>396877</td>\n",
       "      <td>-1</td>\n",
       "      <td>-1</td>\n",
       "      <td>2020-11-10 15:20:00</td>\n",
       "      <td>Открыли методы и события для работы с VK Donut...</td>\n",
       "      <td>15147</td>\n",
       "      <td>109</td>\n",
       "      <td>7</td>\n",
       "      <td>41</td>\n",
       "      <td>https://vk.com/wall-1_396877</td>\n",
       "      <td>1.709910</td>\n",
       "      <td>0.067769</td>\n",
       "    </tr>\n",
       "    <tr>\n",
       "      <th>6</th>\n",
       "      <td>6</td>\n",
       "      <td>396765</td>\n",
       "      <td>-1</td>\n",
       "      <td>-1</td>\n",
       "      <td>2020-11-02 16:01:01</td>\n",
       "      <td>Обновили метод [https://vk.com/dev/messages.se...</td>\n",
       "      <td>16891</td>\n",
       "      <td>131</td>\n",
       "      <td>1</td>\n",
       "      <td>54</td>\n",
       "      <td>https://vk.com/wall-1_396765</td>\n",
       "      <td>1.870819</td>\n",
       "      <td>0.082684</td>\n",
       "    </tr>\n",
       "  </tbody>\n",
       "</table>\n",
       "</div>"
      ],
      "text/plain": [
       "   N      id  from_id  owner_id                date  \\\n",
       "3  3  396954       -1        -1 2020-11-13 13:34:17   \n",
       "4  4  396931       -1        -1 2020-11-12 12:48:35   \n",
       "5  5  396877       -1        -1 2020-11-10 15:20:00   \n",
       "6  6  396765       -1        -1 2020-11-02 16:01:01   \n",
       "\n",
       "                                                text   views  likes  reposts  \\\n",
       "3  Делимся некоторыми изменениями, связанными с C...   13572     72        2   \n",
       "4  Выведите заработок на новый уровень — на 130% ...  340186    376        2   \n",
       "5  Открыли методы и события для работы с VK Donut...   15147    109        7   \n",
       "6  Обновили метод [https://vk.com/dev/messages.se...   16891    131        1   \n",
       "\n",
       "   comments                          link      ER.v      ER.p  \n",
       "3        29  https://vk.com/wall-1_396954  1.274683  0.045267  \n",
       "4        13  https://vk.com/wall-1_396931  0.224877  0.200167  \n",
       "5        41  https://vk.com/wall-1_396877  1.709910  0.067769  \n",
       "6        54  https://vk.com/wall-1_396765  1.870819  0.082684  "
      ]
     },
     "execution_count": 43,
     "metadata": {},
     "output_type": "execute_result"
    }
   ],
   "source": [
    "# Делаем срез датафрейма по заданному инетрвалу времени\n",
    "srez_pwpt_df = pwpt_df[pwpt_df['date'].between(PERIOD[0], PERIOD[1], inclusive=True)]\n",
    "srez_pwpt_df"
   ]
  },
  {
   "cell_type": "code",
   "execution_count": 44,
   "metadata": {
    "ExecuteTime": {
     "end_time": "2020-12-18T18:15:00.848044Z",
     "start_time": "2020-12-18T18:15:00.841761Z"
    },
    "hidden": true
   },
   "outputs": [],
   "source": [
    "followers_sum = followers[-1] # пока руками зададим, потом циклом\n",
    "views_sum = srez_pwpt_df['views'].sum()\n",
    "likes_sum = srez_pwpt_df['likes'].sum()\n",
    "reposts_sum = srez_pwpt_df['reposts'].sum()\n",
    "comments_sum = srez_pwpt_df['comments'].sum()\n",
    "ERv_mean = srez_pwpt_df['ER.v'].mean()\n",
    "ERp_mean = srez_pwpt_df['ER.p'].mean()"
   ]
  },
  {
   "cell_type": "markdown",
   "metadata": {},
   "source": [
    "# Формируем презентацию"
   ]
  },
  {
   "cell_type": "code",
   "execution_count": 79,
   "metadata": {
    "ExecuteTime": {
     "end_time": "2020-12-18T18:47:34.688111Z",
     "start_time": "2020-12-18T18:47:34.511326Z"
    }
   },
   "outputs": [],
   "source": [
    "prs = Presentation() # Инициализируем холст (воркбук если угодно), будет файлом в итоге"
   ]
  },
  {
   "cell_type": "code",
   "execution_count": 80,
   "metadata": {
    "ExecuteTime": {
     "end_time": "2020-12-18T18:47:35.256610Z",
     "start_time": "2020-12-18T18:47:35.164707Z"
    }
   },
   "outputs": [],
   "source": [
    "title_slide_layout = prs.slide_layouts[0]\n",
    "title_slide = prs.slides.add_slide(title_slide_layout)\n",
    "title = title_slide.shapes.title\n",
    "subtitle = title_slide.placeholders[1]\n",
    "\n",
    "title.text = \"ОТЧЁТ ПО ПАБЛИКУ vk.com/public\" + str(abs(owner_list[0]))\n",
    "subtitle.text = \"За период: с \" + PERIOD[0] + '\\n по ' + PERIOD[1]"
   ]
  },
  {
   "cell_type": "code",
   "execution_count": 81,
   "metadata": {
    "ExecuteTime": {
     "end_time": "2020-12-18T18:47:35.709987Z",
     "start_time": "2020-12-18T18:47:35.698294Z"
    }
   },
   "outputs": [],
   "source": [
    "bullet_slide_layout = prs.slide_layouts[1]\n",
    "\n",
    "slide = prs.slides.add_slide(bullet_slide_layout)\n",
    "shapes = slide.shapes\n",
    "\n",
    "title_shape = shapes.title\n",
    "body_shape = shapes.placeholders[1]"
   ]
  },
  {
   "cell_type": "code",
   "execution_count": 82,
   "metadata": {
    "ExecuteTime": {
     "end_time": "2020-12-18T18:47:37.407416Z",
     "start_time": "2020-12-18T18:47:37.396912Z"
    }
   },
   "outputs": [],
   "source": [
    "title_shape.text = \"За период: с \" + PERIOD[0] + '\\n по ' + PERIOD[1]\n",
    "\n",
    "tf = body_shape.text_frame\n",
    "tf.text = \"Сводные данные по паблику: \"\n",
    "\n",
    "p = tf.add_paragraph()\n",
    "p.text = \"В этом паблике всего подписчиков: \" + str(followers_sum)\n",
    "p.level = 1\n",
    "\n",
    "p = tf.add_paragraph()\n",
    "p.text = \"В этом паблике всего просмотров: \" + str(views_sum)\n",
    "p.level = 1\n",
    "\n",
    "p = tf.add_paragraph()\n",
    "p.text = \"В этом паблике всего лайков: \" + str(likes_sum)\n",
    "p.level = 1\n",
    "\n",
    "p = tf.add_paragraph()\n",
    "p.text = \"В этом паблике всего репостов: \" + str(reposts_sum)\n",
    "p.level = 1\n",
    "\n",
    "p = tf.add_paragraph()\n",
    "p.text = \"В этом паблике всего комментариев: \" + str(comments_sum)\n",
    "p.level = 1"
   ]
  },
  {
   "cell_type": "code",
   "execution_count": 83,
   "metadata": {
    "ExecuteTime": {
     "end_time": "2020-12-18T18:47:38.871152Z",
     "start_time": "2020-12-18T18:47:38.865969Z"
    }
   },
   "outputs": [],
   "source": [
    "bullet_slide_layout2 = prs.slide_layouts[1]\n",
    "\n",
    "slide2 = prs.slides.add_slide(bullet_slide_layout2)\n",
    "shapes2 = slide2.shapes\n",
    "\n",
    "title_shape2 = shapes2.title\n",
    "body_shape2 = shapes2.placeholders[1]"
   ]
  },
  {
   "cell_type": "code",
   "execution_count": 84,
   "metadata": {
    "ExecuteTime": {
     "end_time": "2020-12-18T18:47:39.196130Z",
     "start_time": "2020-12-18T18:47:39.188836Z"
    }
   },
   "outputs": [],
   "source": [
    "title_shape2.text = \"За период: с \" + PERIOD[0] + '\\n по ' + PERIOD[1]\n",
    "\n",
    "tf2 = body_shape2.text_frame\n",
    "tf2.text = \"Сводные данные Engagemen Rate: \"\n",
    "\n",
    "p2 = tf2.add_paragraph()\n",
    "p2.text = \"В этом паблике у постов средний ERv: \" + str(ERv_mean)\n",
    "p2.level = 1\n",
    "\n",
    "p2 = tf2.add_paragraph()\n",
    "p2.text = \"В этом паблике у постов средний ERv: \" + str(ERp_mean)\n",
    "p2.level = 1"
   ]
  },
  {
   "cell_type": "code",
   "execution_count": 85,
   "metadata": {
    "ExecuteTime": {
     "end_time": "2020-12-18T18:47:41.048264Z",
     "start_time": "2020-12-18T18:47:41.024368Z"
    }
   },
   "outputs": [],
   "source": [
    "prs.save('демо отчёт преза 2.pptx')"
   ]
  },
  {
   "cell_type": "code",
   "execution_count": null,
   "metadata": {},
   "outputs": [],
   "source": []
  },
  {
   "cell_type": "markdown",
   "metadata": {
    "ExecuteTime": {
     "end_time": "2020-12-18T18:20:24.652068Z",
     "start_time": "2020-12-18T18:20:24.646469Z"
    }
   },
   "source": [
    "\"\"\" Разобраться - почему съезжает размещение данных далеко влево за пределы слайда\n",
    "\n",
    "left = top = width = height = Inches(1)\n",
    "txBox = slide.shapes.add_textbox(left, top, width, height)\n",
    "tf = txBox.text_frame\n",
    "\n",
    "p = tf.add_paragraph()\n",
    "p.text = \"В этом паблике всего подписчиков: \" + str(followers_sum)\n",
    "p.font.size = Pt(20)\n",
    "\n",
    "p = tf.add_paragraph()\n",
    "p.text = \"В этом паблике у постов суммарно просмотров: \" + str(views_sum)\n",
    "p.font.size = Pt(20)\n",
    "\n",
    "p = tf.add_paragraph()\n",
    "p.text = \"В этом паблике у постов суммарно лайков: \" + str(likes_sum)\n",
    "p.font.size = Pt(20)\n",
    "\n",
    "p = tf.add_paragraph()\n",
    "p.text = \"В этом паблике у постов суммарно репостов: \" + str(reposts_sum)\n",
    "p.font.size = Pt(20)\n",
    "\n",
    "p = tf.add_paragraph()\n",
    "p.text = \"В этом паблике у постов суммарно комментариев: \" + str(comments_sum)\n",
    "p.font.size = Pt(20)\n",
    "\n",
    "p = tf.add_paragraph()\n",
    "p.text = \"В этом паблике у постов средний ERv: \" + str(ERv_mean)\n",
    "p.font.size = Pt(20)\n",
    "\n",
    "p = tf.add_paragraph()\n",
    "p.text = \"В этом паблике у постов средний ERp: \" + str(ERp_mean)\n",
    "p.font.size = Pt(20)\n",
    "\"\"\""
   ]
  },
  {
   "cell_type": "code",
   "execution_count": null,
   "metadata": {},
   "outputs": [],
   "source": []
  }
 ],
 "metadata": {
  "kernelspec": {
   "display_name": "Python 3",
   "language": "python",
   "name": "python3"
  },
  "language_info": {
   "codemirror_mode": {
    "name": "ipython",
    "version": 3
   },
   "file_extension": ".py",
   "mimetype": "text/x-python",
   "name": "python",
   "nbconvert_exporter": "python",
   "pygments_lexer": "ipython3",
   "version": "3.7.3"
  },
  "toc": {
   "base_numbering": 1,
   "nav_menu": {},
   "number_sections": false,
   "sideBar": true,
   "skip_h1_title": false,
   "title_cell": "Table of Contents",
   "title_sidebar": "Contents",
   "toc_cell": false,
   "toc_position": {},
   "toc_section_display": true,
   "toc_window_display": false
  },
  "varInspector": {
   "cols": {
    "lenName": 16,
    "lenType": 16,
    "lenVar": 40
   },
   "kernels_config": {
    "python": {
     "delete_cmd_postfix": "",
     "delete_cmd_prefix": "del ",
     "library": "var_list.py",
     "varRefreshCmd": "print(var_dic_list())"
    },
    "r": {
     "delete_cmd_postfix": ") ",
     "delete_cmd_prefix": "rm(",
     "library": "var_list.r",
     "varRefreshCmd": "cat(var_dic_list()) "
    }
   },
   "types_to_exclude": [
    "module",
    "function",
    "builtin_function_or_method",
    "instance",
    "_Feature"
   ],
   "window_display": false
  }
 },
 "nbformat": 4,
 "nbformat_minor": 4
}
